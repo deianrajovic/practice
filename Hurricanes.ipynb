{
 "cells": [
  {
   "cell_type": "markdown",
   "metadata": {},
   "source": [
    "# Hurricane Analysis (Training)\n",
    "\n",
    "## 1. Overview\n",
    "\n",
    "I worked to write several functions that organize and manipulate data about Category 5 Hurricanes, the strongest hurricanes as rated by their wind speed. Each one of these functions will use a number of parameters, conditionals, lists, dictionaries, string manipulation, and return statements.\n",
    "\n",
    "\n"
   ]
  },
  {
   "cell_type": "markdown",
   "metadata": {},
   "source": [
    "__________________________________________________________________________________________________________________________"
   ]
  },
  {
   "cell_type": "markdown",
   "metadata": {},
   "source": [
    "I imported the script.py file in which all the data had been previously inserted"
   ]
  },
  {
   "cell_type": "code",
   "execution_count": 21,
   "metadata": {},
   "outputs": [],
   "source": [
    "%run -i \"script.py\""
   ]
  },
  {
   "cell_type": "markdown",
   "metadata": {},
   "source": [
    "## 2. Functions\n",
    "__________________________________________________________________________________________________________________________________"
   ]
  },
  {
   "cell_type": "markdown",
   "metadata": {},
   "source": [
    "### 2.1 Function 1\n",
    "I wrote a function that returns a new list of updated damages where the recorded data is converted to float values and the missing data is retained as \"Damages not recorded\"."
   ]
  },
  {
   "cell_type": "code",
   "execution_count": 22,
   "metadata": {},
   "outputs": [
    {
     "name": "stdout",
     "output_type": "stream",
     "text": [
      "\n",
      "['Damages not recorded', 100000000.0, 'Damages not recorded', 40000000.0, 27900000.0, 5000000.0, 'Damages not recorded', 306000000.0, 2000000.0, 65800000.0, 326000000.0, 60300000.0, 208000000.0, 1420000000.0, 25400000.0, 'Damages not recorded', 1540000000.0, 1240000000.0, 7100000000.0, 10000000000.0, 26500000000.0, 6200000000.0, 5370000000.0, 23300000000.0, 1010000000.0, 125000000000.0, 12000000000.0, 29400000000.0, 1760000000.0, 720000000.0, 15100000000.0, 64800000000.0, 91600000000.0, 25100000000.0]\n",
      "\n"
     ]
    }
   ],
   "source": [
    "# write your update damages function here:\n",
    "def to_float(lst):\n",
    "    update_lst = []\n",
    "    for i in lst:  \n",
    "        if i == \"Damages not recorded\":\n",
    "            update_lst.append(i)\n",
    "        elif \"M\" in i:\n",
    "            i = i.replace(\"M\", \"\")\n",
    "            i = float(i) * 1000000\n",
    "            update_lst.append(i)\n",
    "        else:\n",
    "            i = i.replace(\"B\", \"\")\n",
    "            i = float(i) * 1000000000\n",
    "            update_lst.append(i)\n",
    "    return update_lst\n",
    "\n",
    "damages = to_float(damages)\n",
    "print()\n",
    "print(damages)\n",
    "print()"
   ]
  },
  {
   "cell_type": "markdown",
   "metadata": {},
   "source": [
    "### 2.2 Function 2 \n",
    "I wrote a function that constructs a dictionary made out of the lists, where the keys of the dictionary are the names of the hurricanes, and the values are dictionaries themselves containing a key for each piece of data (Name, Month, Year,Max Sustained Wind, Areas Affected, Damage, Death) about the hurricane."
   ]
  },
  {
   "cell_type": "code",
   "execution_count": 23,
   "metadata": {},
   "outputs": [
    {
     "name": "stdout",
     "output_type": "stream",
     "text": [
      "\n",
      "{'Cuba I': {'Names': 'Cuba I', 'Months': 'October', 'Years': 1924, 'Max Sustained Winds': 165, 'Areas Affected': ['Central America', 'Mexico', 'Cuba', 'Florida', 'The Bahamas'], 'Damages': 'Damages not recorded', 'Deaths': 90}, 'San Felipe II Okeechobee': {'Names': 'San Felipe II Okeechobee', 'Months': 'September', 'Years': 1928, 'Max Sustained Winds': 160, 'Areas Affected': ['Lesser Antilles', 'The Bahamas', 'United States East Coast', 'Atlantic Canada'], 'Damages': 100000000.0, 'Deaths': 4000}, 'Bahamas': {'Names': 'Bahamas', 'Months': 'September', 'Years': 1932, 'Max Sustained Winds': 160, 'Areas Affected': ['The Bahamas', 'Northeastern United States'], 'Damages': 'Damages not recorded', 'Deaths': 16}, 'Cuba II': {'Names': 'Cuba II', 'Months': 'November', 'Years': 1932, 'Max Sustained Winds': 175, 'Areas Affected': ['Lesser Antilles', 'Jamaica', 'Cayman Islands', 'Cuba', 'The Bahamas', 'Bermuda'], 'Damages': 40000000.0, 'Deaths': 3103}, 'CubaBrownsville': {'Names': 'CubaBrownsville', 'Months': 'August', 'Years': 1933, 'Max Sustained Winds': 160, 'Areas Affected': ['The Bahamas', 'Cuba', 'Florida', 'Texas', 'Tamaulipas'], 'Damages': 27900000.0, 'Deaths': 179}, 'Tampico': {'Names': 'Tampico', 'Months': 'September', 'Years': 1933, 'Max Sustained Winds': 160, 'Areas Affected': ['Jamaica', 'Yucatn Peninsula'], 'Damages': 5000000.0, 'Deaths': 184}, 'Labor Day': {'Names': 'Labor Day', 'Months': 'September', 'Years': 1935, 'Max Sustained Winds': 185, 'Areas Affected': ['The Bahamas', 'Florida', 'Georgia', 'The Carolinas', 'Virginia'], 'Damages': 'Damages not recorded', 'Deaths': 408}, 'New England': {'Names': 'New England', 'Months': 'September', 'Years': 1938, 'Max Sustained Winds': 160, 'Areas Affected': ['Southeastern United States', 'Northeastern United States', 'Southwestern Quebec'], 'Damages': 306000000.0, 'Deaths': 682}, 'Carol': {'Names': 'Carol', 'Months': 'September', 'Years': 1953, 'Max Sustained Winds': 160, 'Areas Affected': ['Bermuda', 'New England', 'Atlantic Canada'], 'Damages': 2000000.0, 'Deaths': 5}, 'Janet': {'Names': 'Janet', 'Months': 'September', 'Years': 1955, 'Max Sustained Winds': 175, 'Areas Affected': ['Lesser Antilles', 'Central America'], 'Damages': 65800000.0, 'Deaths': 1023}, 'Carla': {'Names': 'Carla', 'Months': 'September', 'Years': 1961, 'Max Sustained Winds': 175, 'Areas Affected': ['Texas', 'Louisiana', 'Midwestern United States'], 'Damages': 326000000.0, 'Deaths': 43}, 'Hattie': {'Names': 'Hattie', 'Months': 'October', 'Years': 1961, 'Max Sustained Winds': 160, 'Areas Affected': ['Central America'], 'Damages': 60300000.0, 'Deaths': 319}, 'Beulah': {'Names': 'Beulah', 'Months': 'September', 'Years': 1967, 'Max Sustained Winds': 160, 'Areas Affected': ['The Caribbean', 'Mexico', 'Texas'], 'Damages': 208000000.0, 'Deaths': 688}, 'Camille': {'Names': 'Camille', 'Months': 'August', 'Years': 1969, 'Max Sustained Winds': 175, 'Areas Affected': ['Cuba', 'United States Gulf Coast'], 'Damages': 1420000000.0, 'Deaths': 259}, 'Edith': {'Names': 'Edith', 'Months': 'September', 'Years': 1971, 'Max Sustained Winds': 160, 'Areas Affected': ['The Caribbean', 'Central America', 'Mexico', 'United States Gulf Coast'], 'Damages': 25400000.0, 'Deaths': 37}, 'Anita': {'Names': 'Anita', 'Months': 'September', 'Years': 1977, 'Max Sustained Winds': 175, 'Areas Affected': ['Mexico'], 'Damages': 'Damages not recorded', 'Deaths': 11}, 'David': {'Names': 'David', 'Months': 'August', 'Years': 1979, 'Max Sustained Winds': 175, 'Areas Affected': ['The Caribbean', 'United States East coast'], 'Damages': 1540000000.0, 'Deaths': 2068}, 'Allen': {'Names': 'Allen', 'Months': 'August', 'Years': 1980, 'Max Sustained Winds': 190, 'Areas Affected': ['The Caribbean', 'Yucatn Peninsula', 'Mexico', 'South Texas'], 'Damages': 1240000000.0, 'Deaths': 269}, 'Gilbert': {'Names': 'Gilbert', 'Months': 'September', 'Years': 1988, 'Max Sustained Winds': 185, 'Areas Affected': ['Jamaica', 'Venezuela', 'Central America', 'Hispaniola', 'Mexico'], 'Damages': 7100000000.0, 'Deaths': 318}, 'Hugo': {'Names': 'Hugo', 'Months': 'September', 'Years': 1989, 'Max Sustained Winds': 160, 'Areas Affected': ['The Caribbean', 'United States East Coast'], 'Damages': 10000000000.0, 'Deaths': 107}, 'Andrew': {'Names': 'Andrew', 'Months': 'August', 'Years': 1992, 'Max Sustained Winds': 175, 'Areas Affected': ['The Bahamas', 'Florida', 'United States Gulf Coast'], 'Damages': 26500000000.0, 'Deaths': 65}, 'Mitch': {'Names': 'Mitch', 'Months': 'October', 'Years': 1998, 'Max Sustained Winds': 180, 'Areas Affected': ['Central America', 'Yucatn Peninsula', 'South Florida'], 'Damages': 6200000000.0, 'Deaths': 19325}, 'Isabel': {'Names': 'Isabel', 'Months': 'September', 'Years': 2003, 'Max Sustained Winds': 165, 'Areas Affected': ['Greater Antilles', 'Bahamas', 'Eastern United States', 'Ontario'], 'Damages': 5370000000.0, 'Deaths': 51}, 'Ivan': {'Names': 'Ivan', 'Months': 'September', 'Years': 2004, 'Max Sustained Winds': 165, 'Areas Affected': ['The Caribbean', 'Venezuela', 'United States Gulf Coast'], 'Damages': 23300000000.0, 'Deaths': 124}, 'Emily': {'Names': 'Emily', 'Months': 'July', 'Years': 2005, 'Max Sustained Winds': 160, 'Areas Affected': ['Windward Islands', 'Jamaica', 'Mexico', 'Texas'], 'Damages': 1010000000.0, 'Deaths': 17}, 'Katrina': {'Names': 'Katrina', 'Months': 'August', 'Years': 2005, 'Max Sustained Winds': 175, 'Areas Affected': ['Bahamas', 'United States Gulf Coast'], 'Damages': 125000000000.0, 'Deaths': 1836}, 'Rita': {'Names': 'Rita', 'Months': 'September', 'Years': 2005, 'Max Sustained Winds': 180, 'Areas Affected': ['Cuba', 'United States Gulf Coast'], 'Damages': 12000000000.0, 'Deaths': 125}, 'Wilma': {'Names': 'Wilma', 'Months': 'October', 'Years': 2005, 'Max Sustained Winds': 185, 'Areas Affected': ['Greater Antilles', 'Central America', 'Florida'], 'Damages': 29400000000.0, 'Deaths': 87}, 'Dean': {'Names': 'Dean', 'Months': 'August', 'Years': 2007, 'Max Sustained Winds': 175, 'Areas Affected': ['The Caribbean', 'Central America'], 'Damages': 1760000000.0, 'Deaths': 45}, 'Felix': {'Names': 'Felix', 'Months': 'September', 'Years': 2007, 'Max Sustained Winds': 175, 'Areas Affected': ['Nicaragua', 'Honduras'], 'Damages': 720000000.0, 'Deaths': 133}, 'Matthew': {'Names': 'Matthew', 'Months': 'October', 'Years': 2016, 'Max Sustained Winds': 165, 'Areas Affected': ['Antilles', 'Venezuela', 'Colombia', 'United States East Coast', 'Atlantic Canada'], 'Damages': 15100000000.0, 'Deaths': 603}, 'Irma': {'Names': 'Irma', 'Months': 'September', 'Years': 2017, 'Max Sustained Winds': 180, 'Areas Affected': ['Cape Verde', 'The Caribbean', 'British Virgin Islands', 'U.S. Virgin Islands', 'Cuba', 'Florida'], 'Damages': 64800000000.0, 'Deaths': 138}, 'Maria': {'Names': 'Maria', 'Months': 'September', 'Years': 2017, 'Max Sustained Winds': 175, 'Areas Affected': ['Lesser Antilles', 'Virgin Islands', 'Puerto Rico', 'Dominican Republic', 'Turks and Caicos Islands'], 'Damages': 91600000000.0, 'Deaths': 3057}, 'Michael': {'Names': 'Michael', 'Months': 'October', 'Years': 2018, 'Max Sustained Winds': 160, 'Areas Affected': ['Central America', 'United States Gulf Coast (especially Florida Panhandle)'], 'Damages': 25100000000.0, 'Deaths': 74}}\n",
      "\n"
     ]
    }
   ],
   "source": [
    "# write your construct hurricane dictionary function here:\n",
    "def hurricane_dict(names, months, years, max_sustained_winds, areas_affected, damages, deaths):\n",
    "    hurricanes = {}\n",
    "    for i in range(len(names)):\n",
    "        hurricanes[names[i]] = {\"Names\": names[i],\n",
    "                               \"Months\": months[i], \"Years\": years[i],\n",
    "                               \"Max Sustained Winds\": max_sustained_winds[i],\n",
    "                               \"Areas Affected\": areas_affected[i],\n",
    "                               \"Damages\": damages[i],\n",
    "                               \"Deaths\": deaths[i]}\n",
    "    return hurricanes\n",
    "\n",
    "hurricanes = hurricane_dict(names, months, years, max_sustained_winds, areas_affected, damages, deaths)\n",
    "print()\n",
    "print(hurricanes)\n",
    "print()"
   ]
  },
  {
   "cell_type": "markdown",
   "metadata": {},
   "source": [
    "### 2.3 Function 3\n",
    "I wrote a function that constructs a dictionary made out of the lists, where the keys of the dictionary are the names of the hurricanes, and the values are dictionaries themselves containing a key for each piece of data (Name, Month, Year,Max Sustained Wind, Areas Affected, Damage, Death) about the hurricane."
   ]
  },
  {
   "cell_type": "code",
   "execution_count": 24,
   "metadata": {},
   "outputs": [
    {
     "name": "stdout",
     "output_type": "stream",
     "text": [
      "\n",
      "{1924: [{'Names': 'Cuba I', 'Months': 'October', 'Years': 1924, 'Max Sustained Winds': 165, 'Areas Affected': ['Central America', 'Mexico', 'Cuba', 'Florida', 'The Bahamas'], 'Damages': 'Damages not recorded', 'Deaths': 90}], 1928: [{'Names': 'San Felipe II Okeechobee', 'Months': 'September', 'Years': 1928, 'Max Sustained Winds': 160, 'Areas Affected': ['Lesser Antilles', 'The Bahamas', 'United States East Coast', 'Atlantic Canada'], 'Damages': 100000000.0, 'Deaths': 4000}], 1932: [{'Names': 'Bahamas', 'Months': 'September', 'Years': 1932, 'Max Sustained Winds': 160, 'Areas Affected': ['The Bahamas', 'Northeastern United States'], 'Damages': 'Damages not recorded', 'Deaths': 16}, {'Names': 'Cuba II', 'Months': 'November', 'Years': 1932, 'Max Sustained Winds': 175, 'Areas Affected': ['Lesser Antilles', 'Jamaica', 'Cayman Islands', 'Cuba', 'The Bahamas', 'Bermuda'], 'Damages': 40000000.0, 'Deaths': 3103}], 1933: [{'Names': 'CubaBrownsville', 'Months': 'August', 'Years': 1933, 'Max Sustained Winds': 160, 'Areas Affected': ['The Bahamas', 'Cuba', 'Florida', 'Texas', 'Tamaulipas'], 'Damages': 27900000.0, 'Deaths': 179}, {'Names': 'Tampico', 'Months': 'September', 'Years': 1933, 'Max Sustained Winds': 160, 'Areas Affected': ['Jamaica', 'Yucatn Peninsula'], 'Damages': 5000000.0, 'Deaths': 184}], 1935: [{'Names': 'Labor Day', 'Months': 'September', 'Years': 1935, 'Max Sustained Winds': 185, 'Areas Affected': ['The Bahamas', 'Florida', 'Georgia', 'The Carolinas', 'Virginia'], 'Damages': 'Damages not recorded', 'Deaths': 408}], 1938: [{'Names': 'New England', 'Months': 'September', 'Years': 1938, 'Max Sustained Winds': 160, 'Areas Affected': ['Southeastern United States', 'Northeastern United States', 'Southwestern Quebec'], 'Damages': 306000000.0, 'Deaths': 682}], 1953: [{'Names': 'Carol', 'Months': 'September', 'Years': 1953, 'Max Sustained Winds': 160, 'Areas Affected': ['Bermuda', 'New England', 'Atlantic Canada'], 'Damages': 2000000.0, 'Deaths': 5}], 1955: [{'Names': 'Janet', 'Months': 'September', 'Years': 1955, 'Max Sustained Winds': 175, 'Areas Affected': ['Lesser Antilles', 'Central America'], 'Damages': 65800000.0, 'Deaths': 1023}], 1961: [{'Names': 'Carla', 'Months': 'September', 'Years': 1961, 'Max Sustained Winds': 175, 'Areas Affected': ['Texas', 'Louisiana', 'Midwestern United States'], 'Damages': 326000000.0, 'Deaths': 43}, {'Names': 'Hattie', 'Months': 'October', 'Years': 1961, 'Max Sustained Winds': 160, 'Areas Affected': ['Central America'], 'Damages': 60300000.0, 'Deaths': 319}], 1967: [{'Names': 'Beulah', 'Months': 'September', 'Years': 1967, 'Max Sustained Winds': 160, 'Areas Affected': ['The Caribbean', 'Mexico', 'Texas'], 'Damages': 208000000.0, 'Deaths': 688}], 1969: [{'Names': 'Camille', 'Months': 'August', 'Years': 1969, 'Max Sustained Winds': 175, 'Areas Affected': ['Cuba', 'United States Gulf Coast'], 'Damages': 1420000000.0, 'Deaths': 259}], 1971: [{'Names': 'Edith', 'Months': 'September', 'Years': 1971, 'Max Sustained Winds': 160, 'Areas Affected': ['The Caribbean', 'Central America', 'Mexico', 'United States Gulf Coast'], 'Damages': 25400000.0, 'Deaths': 37}], 1977: [{'Names': 'Anita', 'Months': 'September', 'Years': 1977, 'Max Sustained Winds': 175, 'Areas Affected': ['Mexico'], 'Damages': 'Damages not recorded', 'Deaths': 11}], 1979: [{'Names': 'David', 'Months': 'August', 'Years': 1979, 'Max Sustained Winds': 175, 'Areas Affected': ['The Caribbean', 'United States East coast'], 'Damages': 1540000000.0, 'Deaths': 2068}], 1980: [{'Names': 'Allen', 'Months': 'August', 'Years': 1980, 'Max Sustained Winds': 190, 'Areas Affected': ['The Caribbean', 'Yucatn Peninsula', 'Mexico', 'South Texas'], 'Damages': 1240000000.0, 'Deaths': 269}], 1988: [{'Names': 'Gilbert', 'Months': 'September', 'Years': 1988, 'Max Sustained Winds': 185, 'Areas Affected': ['Jamaica', 'Venezuela', 'Central America', 'Hispaniola', 'Mexico'], 'Damages': 7100000000.0, 'Deaths': 318}], 1989: [{'Names': 'Hugo', 'Months': 'September', 'Years': 1989, 'Max Sustained Winds': 160, 'Areas Affected': ['The Caribbean', 'United States East Coast'], 'Damages': 10000000000.0, 'Deaths': 107}], 1992: [{'Names': 'Andrew', 'Months': 'August', 'Years': 1992, 'Max Sustained Winds': 175, 'Areas Affected': ['The Bahamas', 'Florida', 'United States Gulf Coast'], 'Damages': 26500000000.0, 'Deaths': 65}], 1998: [{'Names': 'Mitch', 'Months': 'October', 'Years': 1998, 'Max Sustained Winds': 180, 'Areas Affected': ['Central America', 'Yucatn Peninsula', 'South Florida'], 'Damages': 6200000000.0, 'Deaths': 19325}], 2003: [{'Names': 'Isabel', 'Months': 'September', 'Years': 2003, 'Max Sustained Winds': 165, 'Areas Affected': ['Greater Antilles', 'Bahamas', 'Eastern United States', 'Ontario'], 'Damages': 5370000000.0, 'Deaths': 51}], 2004: [{'Names': 'Ivan', 'Months': 'September', 'Years': 2004, 'Max Sustained Winds': 165, 'Areas Affected': ['The Caribbean', 'Venezuela', 'United States Gulf Coast'], 'Damages': 23300000000.0, 'Deaths': 124}], 2005: [{'Names': 'Emily', 'Months': 'July', 'Years': 2005, 'Max Sustained Winds': 160, 'Areas Affected': ['Windward Islands', 'Jamaica', 'Mexico', 'Texas'], 'Damages': 1010000000.0, 'Deaths': 17}, {'Names': 'Katrina', 'Months': 'August', 'Years': 2005, 'Max Sustained Winds': 175, 'Areas Affected': ['Bahamas', 'United States Gulf Coast'], 'Damages': 125000000000.0, 'Deaths': 1836}, {'Names': 'Rita', 'Months': 'September', 'Years': 2005, 'Max Sustained Winds': 180, 'Areas Affected': ['Cuba', 'United States Gulf Coast'], 'Damages': 12000000000.0, 'Deaths': 125}, {'Names': 'Wilma', 'Months': 'October', 'Years': 2005, 'Max Sustained Winds': 185, 'Areas Affected': ['Greater Antilles', 'Central America', 'Florida'], 'Damages': 29400000000.0, 'Deaths': 87}], 2007: [{'Names': 'Dean', 'Months': 'August', 'Years': 2007, 'Max Sustained Winds': 175, 'Areas Affected': ['The Caribbean', 'Central America'], 'Damages': 1760000000.0, 'Deaths': 45}, {'Names': 'Felix', 'Months': 'September', 'Years': 2007, 'Max Sustained Winds': 175, 'Areas Affected': ['Nicaragua', 'Honduras'], 'Damages': 720000000.0, 'Deaths': 133}], 2016: [{'Names': 'Matthew', 'Months': 'October', 'Years': 2016, 'Max Sustained Winds': 165, 'Areas Affected': ['Antilles', 'Venezuela', 'Colombia', 'United States East Coast', 'Atlantic Canada'], 'Damages': 15100000000.0, 'Deaths': 603}], 2017: [{'Names': 'Irma', 'Months': 'September', 'Years': 2017, 'Max Sustained Winds': 180, 'Areas Affected': ['Cape Verde', 'The Caribbean', 'British Virgin Islands', 'U.S. Virgin Islands', 'Cuba', 'Florida'], 'Damages': 64800000000.0, 'Deaths': 138}, {'Names': 'Maria', 'Months': 'September', 'Years': 2017, 'Max Sustained Winds': 175, 'Areas Affected': ['Lesser Antilles', 'Virgin Islands', 'Puerto Rico', 'Dominican Republic', 'Turks and Caicos Islands'], 'Damages': 91600000000.0, 'Deaths': 3057}], 2018: [{'Names': 'Michael', 'Months': 'October', 'Years': 2018, 'Max Sustained Winds': 160, 'Areas Affected': ['Central America', 'United States Gulf Coast (especially Florida Panhandle)'], 'Damages': 25100000000.0, 'Deaths': 74}]}\n",
      "\n"
     ]
    }
   ],
   "source": [
    "# write your construct hurricane by year dictionary function here:\n",
    "def hurricane_year(hurricanes):\n",
    "    hurricane_by_year = {}\n",
    "    for i in hurricanes:\n",
    "        year = hurricanes[i][\"Years\"]\n",
    "        name = hurricanes[i]\n",
    "        if year not in hurricane_by_year:\n",
    "            hurricane_by_year[year] = [name]\n",
    "        else:\n",
    "            hurricane_by_year[year].append(name)\n",
    "    return hurricane_by_year\n",
    "        \n",
    "hurricane_by_year = hurricane_year(hurricanes)\n",
    "print()\n",
    "print(hurricane_by_year)\n",
    "print()"
   ]
  },
  {
   "cell_type": "markdown",
   "metadata": {},
   "source": [
    "### 2.4 Function 4\n",
    "I wrote a function that converts the current dictionary of hurricanes to a new dictionary, where the keys are years and the values are lists containing a dictionary for each hurricane that occurred in that year."
   ]
  },
  {
   "cell_type": "code",
   "execution_count": 25,
   "metadata": {},
   "outputs": [
    {
     "name": "stdout",
     "output_type": "stream",
     "text": [
      "\n",
      "{'Central America': 9, 'Mexico': 7, 'Cuba': 6, 'Florida': 6, 'The Bahamas': 7, 'Lesser Antilles': 4, 'United States East Coast': 3, 'Atlantic Canada': 3, 'Northeastern United States': 2, 'Jamaica': 4, 'Cayman Islands': 1, 'Bermuda': 2, 'Texas': 4, 'Tamaulipas': 1, 'Yucatn Peninsula': 3, 'Georgia': 1, 'The Carolinas': 1, 'Virginia': 1, 'Southeastern United States': 1, 'Southwestern Quebec': 1, 'New England': 1, 'Louisiana': 1, 'Midwestern United States': 1, 'The Caribbean': 8, 'United States Gulf Coast': 6, 'United States East coast': 1, 'South Texas': 1, 'Venezuela': 3, 'Hispaniola': 1, 'South Florida': 1, 'Greater Antilles': 2, 'Bahamas': 2, 'Eastern United States': 1, 'Ontario': 1, 'Windward Islands': 1, 'Nicaragua': 1, 'Honduras': 1, 'Antilles': 1, 'Colombia': 1, 'Cape Verde': 1, 'British Virgin Islands': 1, 'U.S. Virgin Islands': 1, 'Virgin Islands': 1, 'Puerto Rico': 1, 'Dominican Republic': 1, 'Turks and Caicos Islands': 1, 'United States Gulf Coast (especially Florida Panhandle)': 1}\n",
      "\n"
     ]
    }
   ],
   "source": [
    "# write your count affected areas function here:\n",
    "def affected_areas_counter(hurricanes):\n",
    "    area_dict = {}\n",
    "    for values in hurricanes.values():\n",
    "        for area in values[\"Areas Affected\"]:\n",
    "            if area not in area_dict:\n",
    "                area_dict[area] = 1\n",
    "            else:\n",
    "                area_dict[area] += 1\n",
    "    return area_dict\n",
    "\n",
    "areas_counted = affected_areas_counter(hurricanes)\n",
    "print()\n",
    "print(areas_counted)\n",
    "print()"
   ]
  },
  {
   "cell_type": "markdown",
   "metadata": {},
   "source": [
    "### 2.5 Function 5\n",
    "Write a function that counts how often each area is listed as an affected area of a hurricane. Store and return the results in a dictionary where the keys are the affected areas and the values are counts of how many times the areas were affected."
   ]
  },
  {
   "cell_type": "code",
   "execution_count": 26,
   "metadata": {},
   "outputs": [
    {
     "name": "stdout",
     "output_type": "stream",
     "text": [
      "\n",
      "{'Central America': 9}\n",
      "\n"
     ]
    }
   ],
   "source": [
    "# write your find most affected area function here:\n",
    "def most_affected_area(areas_counted):\n",
    "    most_affected_area = {}\n",
    "    max_area = \"\"\n",
    "    max_value = 0\n",
    "    for key, value in areas_counted.items():\n",
    "        if areas_counted[key] > max_value:\n",
    "            max_area = key\n",
    "            max_value = areas_counted[key]\n",
    "    most_affected_area[max_area] = max_value\n",
    "    return most_affected_area\n",
    "\n",
    "most_affected_area = most_affected_area(areas_counted)\n",
    "print()\n",
    "print(most_affected_area)   \n",
    "print()"
   ]
  },
  {
   "cell_type": "markdown",
   "metadata": {},
   "source": [
    "### 2.6 Function 6\n",
    "Write a function that finds the area affected by the most hurricanes, and how often it was hit."
   ]
  },
  {
   "cell_type": "code",
   "execution_count": 27,
   "metadata": {},
   "outputs": [
    {
     "name": "stdout",
     "output_type": "stream",
     "text": [
      "\n",
      "{'Mitch': 19325}\n",
      "\n"
     ]
    }
   ],
   "source": [
    "# write your greatest number of deaths function here:\n",
    "def max_death_hurricane(hurricanes):\n",
    "    max_death_hurricane = {}\n",
    "    max_death = 0\n",
    "    name = \"\"\n",
    "    for key, value in hurricanes.items():\n",
    "        if hurricanes[key][\"Deaths\"] > max_death:\n",
    "            name = key\n",
    "            max_death = hurricanes[key][\"Deaths\"]\n",
    "    max_death_hurricane[name] = max_death\n",
    "    return max_death_hurricane    \n",
    "\n",
    "max_death_hurricane = max_death_hurricane(hurricanes)\n",
    "print()\n",
    "print(max_death_hurricane)\n",
    "print()"
   ]
  },
  {
   "cell_type": "markdown",
   "metadata": {},
   "source": [
    "### 2.7 Function 7\n",
    "Write a function that finds the hurricane that caused the greatest number of deaths, and how many deaths it caused."
   ]
  },
  {
   "cell_type": "code",
   "execution_count": 28,
   "metadata": {},
   "outputs": [
    {
     "name": "stdout",
     "output_type": "stream",
     "text": [
      "\n",
      "{0: [{'Names': 'Cuba I', 'Months': 'October', 'Years': 1924, 'Max Sustained Winds': 165, 'Areas Affected': ['Central America', 'Mexico', 'Cuba', 'Florida', 'The Bahamas'], 'Damages': 'Damages not recorded', 'Deaths': 90}, {'Names': 'Bahamas', 'Months': 'September', 'Years': 1932, 'Max Sustained Winds': 160, 'Areas Affected': ['The Bahamas', 'Northeastern United States'], 'Damages': 'Damages not recorded', 'Deaths': 16}, {'Names': 'Carol', 'Months': 'September', 'Years': 1953, 'Max Sustained Winds': 160, 'Areas Affected': ['Bermuda', 'New England', 'Atlantic Canada'], 'Damages': 2000000.0, 'Deaths': 5}, {'Names': 'Carla', 'Months': 'September', 'Years': 1961, 'Max Sustained Winds': 175, 'Areas Affected': ['Texas', 'Louisiana', 'Midwestern United States'], 'Damages': 326000000.0, 'Deaths': 43}, {'Names': 'Edith', 'Months': 'September', 'Years': 1971, 'Max Sustained Winds': 160, 'Areas Affected': ['The Caribbean', 'Central America', 'Mexico', 'United States Gulf Coast'], 'Damages': 25400000.0, 'Deaths': 37}, {'Names': 'Anita', 'Months': 'September', 'Years': 1977, 'Max Sustained Winds': 175, 'Areas Affected': ['Mexico'], 'Damages': 'Damages not recorded', 'Deaths': 11}, {'Names': 'Andrew', 'Months': 'August', 'Years': 1992, 'Max Sustained Winds': 175, 'Areas Affected': ['The Bahamas', 'Florida', 'United States Gulf Coast'], 'Damages': 26500000000.0, 'Deaths': 65}, {'Names': 'Isabel', 'Months': 'September', 'Years': 2003, 'Max Sustained Winds': 165, 'Areas Affected': ['Greater Antilles', 'Bahamas', 'Eastern United States', 'Ontario'], 'Damages': 5370000000.0, 'Deaths': 51}, {'Names': 'Emily', 'Months': 'July', 'Years': 2005, 'Max Sustained Winds': 160, 'Areas Affected': ['Windward Islands', 'Jamaica', 'Mexico', 'Texas'], 'Damages': 1010000000.0, 'Deaths': 17}, {'Names': 'Wilma', 'Months': 'October', 'Years': 2005, 'Max Sustained Winds': 185, 'Areas Affected': ['Greater Antilles', 'Central America', 'Florida'], 'Damages': 29400000000.0, 'Deaths': 87}, {'Names': 'Dean', 'Months': 'August', 'Years': 2007, 'Max Sustained Winds': 175, 'Areas Affected': ['The Caribbean', 'Central America'], 'Damages': 1760000000.0, 'Deaths': 45}, {'Names': 'Michael', 'Months': 'October', 'Years': 2018, 'Max Sustained Winds': 160, 'Areas Affected': ['Central America', 'United States Gulf Coast (especially Florida Panhandle)'], 'Damages': 25100000000.0, 'Deaths': 74}], 1: [{'Names': 'CubaBrownsville', 'Months': 'August', 'Years': 1933, 'Max Sustained Winds': 160, 'Areas Affected': ['The Bahamas', 'Cuba', 'Florida', 'Texas', 'Tamaulipas'], 'Damages': 27900000.0, 'Deaths': 179}, {'Names': 'Tampico', 'Months': 'September', 'Years': 1933, 'Max Sustained Winds': 160, 'Areas Affected': ['Jamaica', 'Yucatn Peninsula'], 'Damages': 5000000.0, 'Deaths': 184}, {'Names': 'Labor Day', 'Months': 'September', 'Years': 1935, 'Max Sustained Winds': 185, 'Areas Affected': ['The Bahamas', 'Florida', 'Georgia', 'The Carolinas', 'Virginia'], 'Damages': 'Damages not recorded', 'Deaths': 408}, {'Names': 'Hattie', 'Months': 'October', 'Years': 1961, 'Max Sustained Winds': 160, 'Areas Affected': ['Central America'], 'Damages': 60300000.0, 'Deaths': 319}, {'Names': 'Camille', 'Months': 'August', 'Years': 1969, 'Max Sustained Winds': 175, 'Areas Affected': ['Cuba', 'United States Gulf Coast'], 'Damages': 1420000000.0, 'Deaths': 259}, {'Names': 'Allen', 'Months': 'August', 'Years': 1980, 'Max Sustained Winds': 190, 'Areas Affected': ['The Caribbean', 'Yucatn Peninsula', 'Mexico', 'South Texas'], 'Damages': 1240000000.0, 'Deaths': 269}, {'Names': 'Gilbert', 'Months': 'September', 'Years': 1988, 'Max Sustained Winds': 185, 'Areas Affected': ['Jamaica', 'Venezuela', 'Central America', 'Hispaniola', 'Mexico'], 'Damages': 7100000000.0, 'Deaths': 318}, {'Names': 'Hugo', 'Months': 'September', 'Years': 1989, 'Max Sustained Winds': 160, 'Areas Affected': ['The Caribbean', 'United States East Coast'], 'Damages': 10000000000.0, 'Deaths': 107}, {'Names': 'Ivan', 'Months': 'September', 'Years': 2004, 'Max Sustained Winds': 165, 'Areas Affected': ['The Caribbean', 'Venezuela', 'United States Gulf Coast'], 'Damages': 23300000000.0, 'Deaths': 124}, {'Names': 'Rita', 'Months': 'September', 'Years': 2005, 'Max Sustained Winds': 180, 'Areas Affected': ['Cuba', 'United States Gulf Coast'], 'Damages': 12000000000.0, 'Deaths': 125}, {'Names': 'Felix', 'Months': 'September', 'Years': 2007, 'Max Sustained Winds': 175, 'Areas Affected': ['Nicaragua', 'Honduras'], 'Damages': 720000000.0, 'Deaths': 133}, {'Names': 'Irma', 'Months': 'September', 'Years': 2017, 'Max Sustained Winds': 180, 'Areas Affected': ['Cape Verde', 'The Caribbean', 'British Virgin Islands', 'U.S. Virgin Islands', 'Cuba', 'Florida'], 'Damages': 64800000000.0, 'Deaths': 138}], 2: [{'Names': 'New England', 'Months': 'September', 'Years': 1938, 'Max Sustained Winds': 160, 'Areas Affected': ['Southeastern United States', 'Northeastern United States', 'Southwestern Quebec'], 'Damages': 306000000.0, 'Deaths': 682}, {'Names': 'Beulah', 'Months': 'September', 'Years': 1967, 'Max Sustained Winds': 160, 'Areas Affected': ['The Caribbean', 'Mexico', 'Texas'], 'Damages': 208000000.0, 'Deaths': 688}, {'Names': 'Matthew', 'Months': 'October', 'Years': 2016, 'Max Sustained Winds': 165, 'Areas Affected': ['Antilles', 'Venezuela', 'Colombia', 'United States East Coast', 'Atlantic Canada'], 'Damages': 15100000000.0, 'Deaths': 603}], 3: [{'Names': 'San Felipe II Okeechobee', 'Months': 'September', 'Years': 1928, 'Max Sustained Winds': 160, 'Areas Affected': ['Lesser Antilles', 'The Bahamas', 'United States East Coast', 'Atlantic Canada'], 'Damages': 100000000.0, 'Deaths': 4000}, {'Names': 'Cuba II', 'Months': 'November', 'Years': 1932, 'Max Sustained Winds': 175, 'Areas Affected': ['Lesser Antilles', 'Jamaica', 'Cayman Islands', 'Cuba', 'The Bahamas', 'Bermuda'], 'Damages': 40000000.0, 'Deaths': 3103}, {'Names': 'Janet', 'Months': 'September', 'Years': 1955, 'Max Sustained Winds': 175, 'Areas Affected': ['Lesser Antilles', 'Central America'], 'Damages': 65800000.0, 'Deaths': 1023}, {'Names': 'David', 'Months': 'August', 'Years': 1979, 'Max Sustained Winds': 175, 'Areas Affected': ['The Caribbean', 'United States East coast'], 'Damages': 1540000000.0, 'Deaths': 2068}, {'Names': 'Katrina', 'Months': 'August', 'Years': 2005, 'Max Sustained Winds': 175, 'Areas Affected': ['Bahamas', 'United States Gulf Coast'], 'Damages': 125000000000.0, 'Deaths': 1836}, {'Names': 'Maria', 'Months': 'September', 'Years': 2017, 'Max Sustained Winds': 175, 'Areas Affected': ['Lesser Antilles', 'Virgin Islands', 'Puerto Rico', 'Dominican Republic', 'Turks and Caicos Islands'], 'Damages': 91600000000.0, 'Deaths': 3057}], 4: [{'Names': 'Mitch', 'Months': 'October', 'Years': 1998, 'Max Sustained Winds': 180, 'Areas Affected': ['Central America', 'Yucatn Peninsula', 'South Florida'], 'Damages': 6200000000.0, 'Deaths': 19325}]}\n",
      "\n"
     ]
    }
   ],
   "source": [
    "# write your catgeorize by mortality function here:\n",
    "mortality_scale = {0: 0,\n",
    "                  1: 100,\n",
    "                   2: 500,\n",
    "                   3: 1000,\n",
    "                   4: 10000}\n",
    "def mortality_rating(hurricanes):\n",
    "    mortality_rating = {}\n",
    "    for i in range(5):\n",
    "        mortality_rating[i] = []\n",
    "    for key, value in hurricanes.items():\n",
    "        deaths = hurricanes[key][\"Deaths\"]\n",
    "        if deaths >= mortality_scale[0] and deaths < mortality_scale[1]:\n",
    "            mortality_rating[0].append(hurricanes[key])\n",
    "        elif deaths >= mortality_scale[1] and deaths < mortality_scale[2]:\n",
    "            mortality_rating[1].append(hurricanes[key])\n",
    "        elif deaths >= mortality_scale[2] and deaths < mortality_scale[3]:\n",
    "            mortality_rating[2].append(hurricanes[key])\n",
    "        elif deaths >= mortality_scale[3] and deaths < mortality_scale[4]:\n",
    "            mortality_rating[3].append(hurricanes[key])\n",
    "        else:\n",
    "            mortality_rating[4].append(hurricanes[key])\n",
    "    return mortality_rating\n",
    "\n",
    "mortality_rating = mortality_rating(hurricanes)\n",
    "print()\n",
    "print(mortality_rating)\n",
    "print()\n"
   ]
  },
  {
   "cell_type": "markdown",
   "metadata": {},
   "source": [
    "### 2.8 Function 8\n",
    "Write a function that finds the hurricane that caused the greatest damage, and how costly it was."
   ]
  },
  {
   "cell_type": "code",
   "execution_count": 29,
   "metadata": {},
   "outputs": [
    {
     "name": "stdout",
     "output_type": "stream",
     "text": [
      "\n",
      "('Katrina', 125000000000.0)\n",
      "\n"
     ]
    }
   ],
   "source": [
    "# write your greatest damage function here:\n",
    "def greatest_damage_hurricane(hurricanes):\n",
    "    name = \"\"\n",
    "    max_damage = 0\n",
    "    for key, value in hurricanes.items():\n",
    "        damage = hurricanes[key][\"Damages\"]\n",
    "        if damage != \"Damages not recorded\" and damage > max_damage:\n",
    "            max_damage = damage\n",
    "            name = key\n",
    "    return (name, max_damage)\n",
    "\n",
    "greatest_damage_hurricane = greatest_damage_hurricane(hurricanes)\n",
    "print()\n",
    "print(greatest_damage_hurricane)\n",
    "print()"
   ]
  },
  {
   "cell_type": "markdown",
   "metadata": {},
   "source": [
    "### 2.9 Function 9\n",
    "Write a function that rates hurricanes on a damage scale according to the ratings in \"damage_scale\", where the key is the rating and the value is the upper bound of damage for that rating."
   ]
  },
  {
   "cell_type": "code",
   "execution_count": 30,
   "metadata": {},
   "outputs": [
    {
     "name": "stdout",
     "output_type": "stream",
     "text": [
      "\n",
      "{0: [{'Names': 'Cuba II', 'Months': 'November', 'Years': 1932, 'Max Sustained Winds': 175, 'Areas Affected': ['Lesser Antilles', 'Jamaica', 'Cayman Islands', 'Cuba', 'The Bahamas', 'Bermuda'], 'Damages': 40000000.0, 'Deaths': 3103}, {'Names': 'CubaBrownsville', 'Months': 'August', 'Years': 1933, 'Max Sustained Winds': 160, 'Areas Affected': ['The Bahamas', 'Cuba', 'Florida', 'Texas', 'Tamaulipas'], 'Damages': 27900000.0, 'Deaths': 179}, {'Names': 'Tampico', 'Months': 'September', 'Years': 1933, 'Max Sustained Winds': 160, 'Areas Affected': ['Jamaica', 'Yucatn Peninsula'], 'Damages': 5000000.0, 'Deaths': 184}, {'Names': 'Carol', 'Months': 'September', 'Years': 1953, 'Max Sustained Winds': 160, 'Areas Affected': ['Bermuda', 'New England', 'Atlantic Canada'], 'Damages': 2000000.0, 'Deaths': 5}, {'Names': 'Janet', 'Months': 'September', 'Years': 1955, 'Max Sustained Winds': 175, 'Areas Affected': ['Lesser Antilles', 'Central America'], 'Damages': 65800000.0, 'Deaths': 1023}, {'Names': 'Hattie', 'Months': 'October', 'Years': 1961, 'Max Sustained Winds': 160, 'Areas Affected': ['Central America'], 'Damages': 60300000.0, 'Deaths': 319}, {'Names': 'Edith', 'Months': 'September', 'Years': 1971, 'Max Sustained Winds': 160, 'Areas Affected': ['The Caribbean', 'Central America', 'Mexico', 'United States Gulf Coast'], 'Damages': 25400000.0, 'Deaths': 37}], 1: [{'Names': 'San Felipe II Okeechobee', 'Months': 'September', 'Years': 1928, 'Max Sustained Winds': 160, 'Areas Affected': ['Lesser Antilles', 'The Bahamas', 'United States East Coast', 'Atlantic Canada'], 'Damages': 100000000.0, 'Deaths': 4000}, {'Names': 'New England', 'Months': 'September', 'Years': 1938, 'Max Sustained Winds': 160, 'Areas Affected': ['Southeastern United States', 'Northeastern United States', 'Southwestern Quebec'], 'Damages': 306000000.0, 'Deaths': 682}, {'Names': 'Carla', 'Months': 'September', 'Years': 1961, 'Max Sustained Winds': 175, 'Areas Affected': ['Texas', 'Louisiana', 'Midwestern United States'], 'Damages': 326000000.0, 'Deaths': 43}, {'Names': 'Beulah', 'Months': 'September', 'Years': 1967, 'Max Sustained Winds': 160, 'Areas Affected': ['The Caribbean', 'Mexico', 'Texas'], 'Damages': 208000000.0, 'Deaths': 688}, {'Names': 'Felix', 'Months': 'September', 'Years': 2007, 'Max Sustained Winds': 175, 'Areas Affected': ['Nicaragua', 'Honduras'], 'Damages': 720000000.0, 'Deaths': 133}], 2: [{'Names': 'Camille', 'Months': 'August', 'Years': 1969, 'Max Sustained Winds': 175, 'Areas Affected': ['Cuba', 'United States Gulf Coast'], 'Damages': 1420000000.0, 'Deaths': 259}, {'Names': 'David', 'Months': 'August', 'Years': 1979, 'Max Sustained Winds': 175, 'Areas Affected': ['The Caribbean', 'United States East coast'], 'Damages': 1540000000.0, 'Deaths': 2068}, {'Names': 'Allen', 'Months': 'August', 'Years': 1980, 'Max Sustained Winds': 190, 'Areas Affected': ['The Caribbean', 'Yucatn Peninsula', 'Mexico', 'South Texas'], 'Damages': 1240000000.0, 'Deaths': 269}, {'Names': 'Gilbert', 'Months': 'September', 'Years': 1988, 'Max Sustained Winds': 185, 'Areas Affected': ['Jamaica', 'Venezuela', 'Central America', 'Hispaniola', 'Mexico'], 'Damages': 7100000000.0, 'Deaths': 318}, {'Names': 'Mitch', 'Months': 'October', 'Years': 1998, 'Max Sustained Winds': 180, 'Areas Affected': ['Central America', 'Yucatn Peninsula', 'South Florida'], 'Damages': 6200000000.0, 'Deaths': 19325}, {'Names': 'Isabel', 'Months': 'September', 'Years': 2003, 'Max Sustained Winds': 165, 'Areas Affected': ['Greater Antilles', 'Bahamas', 'Eastern United States', 'Ontario'], 'Damages': 5370000000.0, 'Deaths': 51}, {'Names': 'Emily', 'Months': 'July', 'Years': 2005, 'Max Sustained Winds': 160, 'Areas Affected': ['Windward Islands', 'Jamaica', 'Mexico', 'Texas'], 'Damages': 1010000000.0, 'Deaths': 17}, {'Names': 'Dean', 'Months': 'August', 'Years': 2007, 'Max Sustained Winds': 175, 'Areas Affected': ['The Caribbean', 'Central America'], 'Damages': 1760000000.0, 'Deaths': 45}], 3: [{'Names': 'Hugo', 'Months': 'September', 'Years': 1989, 'Max Sustained Winds': 160, 'Areas Affected': ['The Caribbean', 'United States East Coast'], 'Damages': 10000000000.0, 'Deaths': 107}, {'Names': 'Andrew', 'Months': 'August', 'Years': 1992, 'Max Sustained Winds': 175, 'Areas Affected': ['The Bahamas', 'Florida', 'United States Gulf Coast'], 'Damages': 26500000000.0, 'Deaths': 65}, {'Names': 'Ivan', 'Months': 'September', 'Years': 2004, 'Max Sustained Winds': 165, 'Areas Affected': ['The Caribbean', 'Venezuela', 'United States Gulf Coast'], 'Damages': 23300000000.0, 'Deaths': 124}, {'Names': 'Rita', 'Months': 'September', 'Years': 2005, 'Max Sustained Winds': 180, 'Areas Affected': ['Cuba', 'United States Gulf Coast'], 'Damages': 12000000000.0, 'Deaths': 125}, {'Names': 'Wilma', 'Months': 'October', 'Years': 2005, 'Max Sustained Winds': 185, 'Areas Affected': ['Greater Antilles', 'Central America', 'Florida'], 'Damages': 29400000000.0, 'Deaths': 87}, {'Names': 'Matthew', 'Months': 'October', 'Years': 2016, 'Max Sustained Winds': 165, 'Areas Affected': ['Antilles', 'Venezuela', 'Colombia', 'United States East Coast', 'Atlantic Canada'], 'Damages': 15100000000.0, 'Deaths': 603}, {'Names': 'Michael', 'Months': 'October', 'Years': 2018, 'Max Sustained Winds': 160, 'Areas Affected': ['Central America', 'United States Gulf Coast (especially Florida Panhandle)'], 'Damages': 25100000000.0, 'Deaths': 74}], 4: [{'Names': 'Katrina', 'Months': 'August', 'Years': 2005, 'Max Sustained Winds': 175, 'Areas Affected': ['Bahamas', 'United States Gulf Coast'], 'Damages': 125000000000.0, 'Deaths': 1836}, {'Names': 'Irma', 'Months': 'September', 'Years': 2017, 'Max Sustained Winds': 180, 'Areas Affected': ['Cape Verde', 'The Caribbean', 'British Virgin Islands', 'U.S. Virgin Islands', 'Cuba', 'Florida'], 'Damages': 64800000000.0, 'Deaths': 138}, {'Names': 'Maria', 'Months': 'September', 'Years': 2017, 'Max Sustained Winds': 175, 'Areas Affected': ['Lesser Antilles', 'Virgin Islands', 'Puerto Rico', 'Dominican Republic', 'Turks and Caicos Islands'], 'Damages': 91600000000.0, 'Deaths': 3057}]}\n",
      "\n"
     ]
    }
   ],
   "source": [
    "# write your catgeorize by damage function here:\n",
    "damage_scale = {0: 0,\n",
    "                1: 100000000,\n",
    "                2: 1000000000,\n",
    "                3: 10000000000,\n",
    "                4: 50000000000}\n",
    "def damage_rating(hurricanes):\n",
    "    damage_rating = {}\n",
    "    for i in range(5):\n",
    "        damage_rating[i] = []\n",
    "    for key, value in hurricanes.items():\n",
    "        damage = hurricanes[key][\"Damages\"]\n",
    "        if damage != \"Damages not recorded\" and damage >= damage_scale[0] and damage < damage_scale[1]:\n",
    "            damage_rating[0].append(hurricanes[key])\n",
    "        elif damage != \"Damages not recorded\" and damage >= damage_scale[1] and damage < damage_scale[2]:\n",
    "            damage_rating[1].append(hurricanes[key])\n",
    "        elif damage != \"Damages not recorded\" and damage >= damage_scale[2] and damage < damage_scale[3]:\n",
    "            damage_rating[2].append(hurricanes[key])\n",
    "        elif damage != \"Damages not recorded\" and damage >= damage_scale[3] and damage < damage_scale[4]:\n",
    "            damage_rating[3].append(hurricanes[key])\n",
    "        elif damage != \"Damages not recorded\" and damage >= damage_scale[4]:\n",
    "            damage_rating[4].append(hurricanes[key])\n",
    "    return damage_rating\n",
    "\n",
    "damage_rating = damage_rating(hurricanes)\n",
    "print()\n",
    "print(damage_rating)\n",
    "print()"
   ]
  }
 ],
 "metadata": {
  "kernelspec": {
   "display_name": "Python 3",
   "language": "python",
   "name": "python3"
  },
  "language_info": {
   "codemirror_mode": {
    "name": "ipython",
    "version": 3
   },
   "file_extension": ".py",
   "mimetype": "text/x-python",
   "name": "python",
   "nbconvert_exporter": "python",
   "pygments_lexer": "ipython3",
   "version": "3.8.3"
  }
 },
 "nbformat": 4,
 "nbformat_minor": 4
}
